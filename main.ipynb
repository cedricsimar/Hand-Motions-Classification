{
 "cells": [
  {
   "cell_type": "markdown",
   "metadata": {},
   "source": [
    "# Hand motions classification using non-invasive EEG recordings\n",
    "### by Cedric Simar and Antoine Passemiers\n",
    "<hr/>\n",
    "\n",
    "## Table of content\n",
    "\n",
    "* [1 - Preprocessing](#preprocessing)\n",
    "  * [1.1. Import useful libraries](#import-libraries)\n",
    "  * [1.2. Load the data](#load-data)\n",
    "\n",
    "\n",
    "* [2. Riemannian-based kernel trick](#kernel-trick)\n",
    "\n",
    "\n",
    "* [3. Validating the models](#models)\n",
    "\n",
    "\n",
    "* [4. Bibliography](#bibliography)"
   ]
  },
  {
   "cell_type": "markdown",
   "metadata": {},
   "source": [
    "## Preprocessing <a class=\"anchor\" id=\"preprocessing\"></a>\n",
    "<hr/>\n",
    "\n",
    "### Import useful libraries <a class=\"anchor\" id=\"import-libraries\"></a>"
   ]
  },
  {
   "cell_type": "code",
   "execution_count": 10,
   "metadata": {
    "collapsed": true
   },
   "outputs": [],
   "source": [
    "%load_ext Cython\n",
    "\n",
    "import os\n",
    "import gc\n",
    "import time\n",
    "import scipy.linalg\n",
    "import numpy as np\n",
    "import pandas as pd\n",
    "import matplotlib.pyplot as plt"
   ]
  },
  {
   "cell_type": "markdown",
   "metadata": {},
   "source": [
    "### Load the data <a class=\"anchor\" id=\"load-data\"></a>\n",
    "\n",
    "TODO Cedric: descriptions (electrodes, multi-labels, échantillonage, tout ça tout ça)\n",
    "\n",
    "<figure style=\"text-align:center;\">\n",
    "  <img src=\"imgs/EEG_Electrode_Numbering.jpg\" style=\"width:450px;\">\n",
    "  <figcaption> Source: [Kaggle](#bib-kaggle) </figcaption>\n",
    "</figure>"
   ]
  },
  {
   "cell_type": "code",
   "execution_count": 2,
   "metadata": {
    "collapsed": true
   },
   "outputs": [],
   "source": [
    "N_PATIENTS = 12\n",
    "ELECTRODE_NAMES = [\n",
    "    'Fp1', 'Fp2', 'F7', 'F3', 'Fz', 'F4', 'F8', 'FC5', 'FC1', 'FC2', 'FC6',\n",
    "    'T7', 'C3', 'Cz', 'C4', 'T8', 'TP9', 'CP5', 'CP1', 'CP2', 'CP6', 'TP10',\n",
    "    'P7', 'P3', 'Pz', 'P4', 'P8', 'PO9', 'O1', 'Oz', 'O2', 'PO10']\n",
    "EVENT_NAMES = ['HandStart', 'FirstDigitTouch', 'BothStartLoadPhase', 'LiftOff', 'Replace', 'BothReleased']\n",
    "\n",
    "\n",
    "def load_dataset(subject=-1, data_dir='', with_test_data=True):\n",
    "    \"\"\"\n",
    "    Parameters\n",
    "    ----------\n",
    "    subject: int, list, np.ndarray\n",
    "        Either a subject id or a sequence of ids. If subject is set to -1,\n",
    "        the data from all patients will be returned\n",
    "    data_dir: str\n",
    "        path to the folder where train/ and test/ subfolders are located\n",
    "    with_test_data: bool\n",
    "        If set to true, test series/set will be returned\n",
    "    \n",
    "    Return\n",
    "    ------\n",
    "    If with_test_data: List of couples of dataframes\n",
    "    Otherwise: List of dataframes\n",
    "    \"\"\"\n",
    "    if type(subject) == int:\n",
    "        subject_ids = list(range(1, N_PATIENTS+1)) if subject == -1 else [subject]\n",
    "    else:\n",
    "        subject_ids = list(subject)\n",
    "    print(\"Loading dataset...\")\n",
    "    subjects_data = list()\n",
    "    for subject_id in subject_ids:\n",
    "        subject_train_data = list()\n",
    "        for series_id in range(1, 9):\n",
    "            print(\"\\tSeries %i of subject %i\" % (series_id, subject_id))\n",
    "            train_data_filename = os.path.join(\n",
    "                data_dir, 'train/subj%s_series%s_data.csv' % (subject_id, series_id))\n",
    "            events_filename = os.path.join(\n",
    "                data_dir, 'train/subj%s_series%s_events.csv' % (subject_id, series_id))\n",
    "            train_series, events = pd.read_csv(train_data_filename), pd.read_csv(events_filename)\n",
    "            train_series[EVENT_NAMES] = events[EVENT_NAMES]\n",
    "            subject_train_data.append(train_series)\n",
    "        if with_test_data:\n",
    "            subject_test_data = list()\n",
    "            for series_id in range(9, 11):\n",
    "                test_data_filename = os.path.join(\n",
    "                    data_dir, 'test/subj%s_series%s_data.csv' % (subject_id, series_id))\n",
    "                subject_test_data.append(pd.read_csv(test_data_filename))\n",
    "            subjects_data.append((subject_train_data, subject_test_data))\n",
    "        else:\n",
    "            subjects_data.append(subject_train_data)\n",
    "    return subjects_data"
   ]
  },
  {
   "cell_type": "code",
   "execution_count": 3,
   "metadata": {},
   "outputs": [
    {
     "name": "stdout",
     "output_type": "stream",
     "text": [
      "Loading dataset...\n",
      "\tSeries 1 of subject 1\n",
      "\tSeries 2 of subject 1\n",
      "\tSeries 3 of subject 1\n",
      "\tSeries 4 of subject 1\n",
      "\tSeries 5 of subject 1\n",
      "\tSeries 6 of subject 1\n",
      "\tSeries 7 of subject 1\n",
      "\tSeries 8 of subject 1\n"
     ]
    }
   ],
   "source": [
    "dataset = load_dataset(subject=1, data_dir='data')[0] # Take first list since we consider only patient number 1"
   ]
  },
  {
   "cell_type": "markdown",
   "metadata": {},
   "source": [
    "## Riemannian-based kernel trick <a class=\"anchor\" id=\"kernel-trick\"></a>"
   ]
  },
  {
   "cell_type": "code",
   "execution_count": 20,
   "metadata": {},
   "outputs": [],
   "source": [
    "training_set, test_set = dataset\n",
    "training_set = pd.concat(training_set)\n",
    "\n",
    "X = np.asarray(training_set[ELECTRODE_NAMES], dtype=np.int16)\n",
    "Y = np.asarray(training_set[EVENT_NAMES], dtype=np.int16)"
   ]
  },
  {
   "cell_type": "code",
   "execution_count": 21,
   "metadata": {},
   "outputs": [],
   "source": [
    "%%cython\n",
    "\n",
    "import numpy as np\n",
    "cimport numpy as cnp\n",
    "cnp.import_array()\n",
    "\n",
    "def extract_cov_matrices(cnp.int16_t[:, :] data, Py_ssize_t w):\n",
    "    cdef Py_ssize_t n_features = data.shape[1]\n",
    "    cdef Py_ssize_t n_mat = data.shape[0] - w\n",
    "    cdef cnp.float_t[:, :, :] sigmas = np.empty((n_mat, n_features, n_features), dtype=np.float)\n",
    "    cdef Py_ssize_t i, j\n",
    "    with nogil:\n",
    "        for i in range(n_mat):\n",
    "            pass # TODO"
   ]
  },
  {
   "cell_type": "code",
   "execution_count": 22,
   "metadata": {},
   "outputs": [],
   "source": [
    "extract_cov_matrices(X, 150)"
   ]
  },
  {
   "cell_type": "markdown",
   "metadata": {
    "collapsed": true
   },
   "source": [
    "## Validating the models <a class=\"anchor\" id=\"models\"></a>\n",
    "<hr/>"
   ]
  },
  {
   "cell_type": "markdown",
   "metadata": {},
   "source": [
    "## Bibliography <a class=\"anchor\" id=\"bibliography\"></a>\n",
    "<hr/>\n",
    "\n",
    "* <span class=\"anchor\" id=\"bib-riemann\">\n",
    "    [1] Classification of covariance matrices using a Riemannian-based kernel for BCI applications <br>\n",
    "    Alexandre Barachant, Stéphane Bonnet, Marco Congedo, Christian Jutten <br>\n",
    "    https://hal.archives-ouvertes.fr/file/index/docid/820475/filename/BARACHANT_Neurocomputing_ForHal.pdf <br>\n",
    "  </span>\n",
    "<br>\n",
    "\n",
    "* <span class=\"anchor\" id=\"bib-kaggle\">\n",
    "    [2] Grasp-and-Lift EEG Detection Kaggle Competition <br>\n",
    "    https://www.kaggle.com/c/grasp-and-lift-eeg-detection <br>\n",
    "  </span>"
   ]
  },
  {
   "cell_type": "code",
   "execution_count": null,
   "metadata": {
    "collapsed": true
   },
   "outputs": [],
   "source": []
  }
 ],
 "metadata": {
  "kernelspec": {
   "display_name": "Python 3",
   "language": "python",
   "name": "python3"
  },
  "language_info": {
   "codemirror_mode": {
    "name": "ipython",
    "version": 3
   },
   "file_extension": ".py",
   "mimetype": "text/x-python",
   "name": "python",
   "nbconvert_exporter": "python",
   "pygments_lexer": "ipython3",
   "version": "3.6.1"
  }
 },
 "nbformat": 4,
 "nbformat_minor": 2
}
