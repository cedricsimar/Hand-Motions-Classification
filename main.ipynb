{
 "cells": [
  {
   "cell_type": "markdown",
   "metadata": {},
   "source": [
    "# Hand motions classification using non-invasive EEG recordings\n",
    "### by Cedric Simar and Antoine Passemiers\n",
    "<hr/>\n",
    "\n",
    "## Table of content\n",
    "\n",
    "* [0 - Introduction](#introduction)\n",
    "  * [0.1. Problem description](#problem-description)\n",
    "\n",
    "\n",
    "* [1 - Preprocessing](#preprocessing)\n",
    "  * [1.1. Import useful libraries](#import-libraries)\n",
    "  * [1.2. Load the data](#load-data)\n",
    "  * [1.3. Band-pass filtering](#band-pass-filtering)\n",
    "  * [1.4. Downsampling](#downsampling)\n",
    "  * [1.5. Extract covariance matrices](#extract-cov)\n",
    "\n",
    "\n",
    "* [2. Riemannian-based kernel trick](#kernel-trick)\n",
    "\n",
    "\n",
    "* [3. Models](#models)\n",
    "  * [3.1. Linear Discriminant Analysis](#lda)\n",
    "\n",
    "\n",
    "* [4. Bibliography](#bibliography)"
   ]
  },
  {
   "cell_type": "markdown",
   "metadata": {},
   "source": [
    "## Introduction <a class=\"anchor\" id=\"introduction\"></a>\n",
    "<hr/>\n",
    "\n",
    "### Problem description <a class=\"anchor\" id=\"problem-description\"></a>"
   ]
  },
  {
   "cell_type": "code",
   "execution_count": 1,
   "metadata": {},
   "outputs": [
    {
     "data": {
      "text/html": [
       "<iframe style=\"display:block\" width=\"560\" height=\"315\" src=\"https://www.youtube.com/embed/y3_Izuop2gY?rel=0&amp;controls=0&amp;showinfo=0\" frameborder=\"0\" allowfullscreen></iframe>"
      ],
      "text/plain": [
       "<IPython.core.display.HTML object>"
      ]
     },
     "execution_count": 1,
     "metadata": {},
     "output_type": "execute_result"
    }
   ],
   "source": [
    "from IPython.display import HTML\n",
    "url = \"https://www.youtube.com/embed/y3_Izuop2gY?rel=0&amp;controls=0&amp;showinfo=0\"\n",
    "HTML('<iframe style=\"display:block\" width=\"560\" height=\"315\" src=\"%s\" frameborder=\"0\" allowfullscreen></iframe>' % url)"
   ]
  },
  {
   "cell_type": "markdown",
   "metadata": {},
   "source": [
    "## Preprocessing <a class=\"anchor\" id=\"preprocessing\"></a>\n",
    "<hr/>\n",
    "\n",
    "### Import useful libraries <a class=\"anchor\" id=\"import-libraries\"></a>"
   ]
  },
  {
   "cell_type": "code",
   "execution_count": 52,
   "metadata": {},
   "outputs": [
    {
     "name": "stdout",
     "output_type": "stream",
     "text": [
      "The Cython extension is already loaded. To reload it, use:\n",
      "  %reload_ext Cython\n"
     ]
    }
   ],
   "source": [
    "%load_ext Cython\n",
    "\n",
    "import cython\n",
    "import os\n",
    "import gc\n",
    "import time\n",
    "import scipy.linalg\n",
    "import scipy.signal\n",
    "import numpy as np\n",
    "import pandas as pd\n",
    "import matplotlib.pyplot as plt\n",
    "from sklearn.decomposition import PCA\n",
    "from sklearn.preprocessing import StandardScaler\n",
    "from sklearn.ensemble import RandomForestClassifier\n",
    "from sklearn.metrics import roc_auc_score"
   ]
  },
  {
   "cell_type": "markdown",
   "metadata": {},
   "source": [
    "### Load the data <a class=\"anchor\" id=\"load-data\"></a>\n",
    "\n",
    "TODO Cedric: descriptions (electrodes, multi-labels, échantillonage, tout ça tout ça)\n",
    "\n",
    "<figure style=\"text-align:center;\">\n",
    "  <img src=\"imgs/EEG_Electrode_Numbering.jpg\" style=\"width:450px;\">\n",
    "  <figcaption> Source: [Kaggle](#bib-kaggle) </figcaption>\n",
    "</figure>"
   ]
  },
  {
   "cell_type": "code",
   "execution_count": 45,
   "metadata": {
    "collapsed": true
   },
   "outputs": [],
   "source": [
    "N_PATIENTS = 12\n",
    "# Feature names\n",
    "ELECTRODE_NAMES = [\n",
    "    'Fp1', 'Fp2', 'F7', 'F3', 'Fz', 'F4', 'F8', 'FC5', 'FC1', 'FC2', 'FC6',\n",
    "    'T7', 'C3', 'Cz', 'C4', 'T8', 'TP9', 'CP5', 'CP1', 'CP2', 'CP6', 'TP10',\n",
    "    'P7', 'P3', 'Pz', 'P4', 'P8', 'PO9', 'O1', 'Oz', 'O2', 'PO10']\n",
    "# Label names\n",
    "EVENT_NAMES = ['HandStart', 'FirstDigitTouch', 'BothStartLoadPhase', 'LiftOff', 'Replace', 'BothReleased']\n",
    "\n",
    "\n",
    "def load_dataset(subject=1, data_dir='', series=range(1,9)):\n",
    "    data, events = list(), list()\n",
    "    for series_id, s in enumerate(series):\n",
    "        print(\"Load series {0} from patient {1}\".format(series_id+1, subject))\n",
    "        data_filepath = os.path.join(data_dir, \"train/subj{0}_series{1}_data.csv\".format(subject, s))\n",
    "        data.append(pd.read_csv(data_filepath, index_col=0).values.astype(np.float))\n",
    "        events_filepath = os.path.join(data_dir, \"train/subj{0}_series{1}_events.csv\".format(subject, s))\n",
    "        events.append(pd.read_csv(events_filepath, index_col=0).values)\n",
    "    return data, np.concatenate(events, axis=0)"
   ]
  },
  {
   "cell_type": "code",
   "execution_count": 46,
   "metadata": {},
   "outputs": [
    {
     "name": "stdout",
     "output_type": "stream",
     "text": [
      "Load series 1 from patient 1\n",
      "Load series 2 from patient 1\n",
      "Load series 3 from patient 1\n",
      "Load series 4 from patient 1\n",
      "Load series 5 from patient 1\n",
      "Load series 6 from patient 1\n",
      "Load series 7 from patient 1\n",
      "Load series 8 from patient 1\n"
     ]
    }
   ],
   "source": [
    "data, events = load_dataset(subject=1, data_dir='data')"
   ]
  },
  {
   "cell_type": "code",
   "execution_count": 25,
   "metadata": {
    "collapsed": true
   },
   "outputs": [],
   "source": [
    "class LowPassFilter:\n",
    "    \n",
    "    def __init__(self, cutoff_freq, sampling_freq, order=3):\n",
    "        self.nyquist_freq = sampling_freq / 2.\n",
    "        bound = cutoff_freq / self.nyquist_freq\n",
    "        self.b, self.a = scipy.signal.butter(order, bound, btype='lowpass', analog=True)\n",
    "    \n",
    "    def filter(self, signal):\n",
    "        # TODO: does lfiter include future data when filtering current frame?\n",
    "        return scipy.signal.lfilter(self.b, self.a, signal, axis=0)"
   ]
  },
  {
   "cell_type": "code",
   "execution_count": 47,
   "metadata": {},
   "outputs": [],
   "source": [
    "Fp1 = [series[:, 0] for series in data] # TODO: electrode 0 or 15\n",
    "filtered = list()\n",
    "for cutoff_freq in np.linspace(0, 1, 11)[1:]:\n",
    "    lowpass = LowPassFilter(cutoff_freq, 500)\n",
    "    filtered.append(np.concatenate([lowpass.filter(series_fp1) for series_fp1 in Fp1], axis=0)[:, np.newaxis])\n",
    "filtered = np.concatenate(filtered, axis=1)\n",
    "X_train_raw = np.concatenate((np.concatenate(data, axis=0), filtered, filtered ** 2), axis=1)"
   ]
  },
  {
   "cell_type": "code",
   "execution_count": 48,
   "metadata": {},
   "outputs": [],
   "source": [
    "X_train_downsampled = X_train_raw[::4000]\n",
    "y_downsampled = events[::4000]"
   ]
  },
  {
   "cell_type": "code",
   "execution_count": 49,
   "metadata": {},
   "outputs": [
    {
     "name": "stdout",
     "output_type": "stream",
     "text": [
      "(356, 52)\n"
     ]
    }
   ],
   "source": [
    "scaler = StandardScaler(copy=False)\n",
    "X_train_downsampled = scaler.fit_transform(X_train_downsampled)\n",
    "\n",
    "print(X_train_downsampled.shape)"
   ]
  },
  {
   "cell_type": "code",
   "execution_count": 50,
   "metadata": {},
   "outputs": [
    {
     "name": "stdout",
     "output_type": "stream",
     "text": [
      "[[0 0 0 0 0 0]\n",
      " [0 0 0 0 0 0]\n",
      " [1 0 0 0 0 0]\n",
      " ..., \n",
      " [0 0 0 0 0 0]\n",
      " [0 0 0 0 0 0]\n",
      " [0 0 0 0 0 0]]\n"
     ]
    }
   ],
   "source": [
    "X_train, X_val = X_train_downsampled[:200], X_train_downsampled[200:]\n",
    "y_train, y_val = y_downsampled[:200], y_downsampled[200:]"
   ]
  },
  {
   "cell_type": "code",
   "execution_count": 55,
   "metadata": {},
   "outputs": [
    {
     "name": "stdout",
     "output_type": "stream",
     "text": [
      "0.572368421053\n",
      "0.716175359033\n",
      "0.759712837838\n",
      "0.478906999041\n",
      "0.547077922078\n",
      "0.782467532468\n"
     ]
    }
   ],
   "source": [
    "for i in range(6):\n",
    "    rf = RandomForestClassifier(n_estimators=150, criterion=\"entropy\")\n",
    "    rf.fit(X_train, y_train[:, i])\n",
    "    scores = rf.predict_proba(X_val)[:, 1]\n",
    "    print(roc_auc_score(y_val[:, i], scores))"
   ]
  },
  {
   "cell_type": "markdown",
   "metadata": {},
   "source": [
    "### Band-pass filtering <a class=\"anchor\" id=\"band-pass-filtering\"></a>\n",
    "\n",
    "To avoid creating potential aliasing effects, we apply necessary spectral filters on the raw signals before to downsample them."
   ]
  },
  {
   "cell_type": "code",
   "execution_count": 11,
   "metadata": {
    "collapsed": true
   },
   "outputs": [],
   "source": [
    "class BandPassFilter:\n",
    "    \n",
    "    def __init__(self, lowcut_freq, highcut_freq, sampling_freq, order=3):\n",
    "        self.nyquist_freq = sampling_freq / 2.\n",
    "        lower_bound = lowcut_freq / self.nyquist_freq\n",
    "        upper_bound = highcut_freq / self.nyquist_freq\n",
    "        self.b, self.a = scipy.signal.butter(order, [lower_bound, upper_bound], btype='band', analog=True)\n",
    "    \n",
    "    def lfilter(self, signal):\n",
    "        # TODO: does lfiter include future data when filtering current frame?\n",
    "        return scipy.signal.lfilter(self.b, self.a, signal, axis=0)"
   ]
  },
  {
   "cell_type": "code",
   "execution_count": 12,
   "metadata": {
    "collapsed": true
   },
   "outputs": [],
   "source": [
    "# Sampling frequency: 500 Hz (from the dataset description)\n",
    "# Filter band of interest: 0.1 Hz to 45 Hz (µ and β frequency bands)\n",
    "bandpass = BandPassFilter(.1, 45, 500)\n",
    "\n",
    "X_train_filtered = bandpass.lfilter(X_train)"
   ]
  },
  {
   "cell_type": "markdown",
   "metadata": {},
   "source": [
    "### Downsampling <a class=\"anchor\" id=\"downsampling\"></a>"
   ]
  },
  {
   "cell_type": "code",
   "execution_count": 13,
   "metadata": {
    "collapsed": true
   },
   "outputs": [],
   "source": [
    "# 500 Hz -> 125 Hz\n",
    "X_train_filtered_125Hz, Y_train_125Hz = X_train_filtered[::4], Y_train[::4]"
   ]
  },
  {
   "cell_type": "markdown",
   "metadata": {},
   "source": [
    "### Extract covariance matrices <a class=\"anchor\" id=\"extract-cov\"></a>"
   ]
  },
  {
   "cell_type": "code",
   "execution_count": 7,
   "metadata": {
    "collapsed": true
   },
   "outputs": [],
   "source": [
    "%%cython\n",
    "\n",
    "import numpy as np\n",
    "cimport numpy as cnp\n",
    "cnp.import_array()\n",
    "import cython\n",
    "\n",
    "@cython.boundscheck(False)\n",
    "@cython.overflowcheck(False)\n",
    "def extract_cov_matrices(cnp.float_t[:, :] data, Py_ssize_t w):\n",
    "    cdef Py_ssize_t n_features = data.shape[1]\n",
    "    cdef cnp.float_t[:, :, :] sigmas = np.empty((data.shape[0], n_features, n_features), dtype=np.float)\n",
    "    cdef cnp.float_t[:] means = np.asarray(np.mean(np.asarray(data)[:w, :], axis=0), dtype=np.float)\n",
    "    cdef cnp.float_t[:] old_means = np.copy(means)\n",
    "    cdef cnp.float_t[:, :] last_sigma = np.cov(np.asarray(data)[:w, :].T)\n",
    "    cdef cnp.float_t c\n",
    "    np_sigmas = np.asarray(sigmas)\n",
    "    np_sigmas[:w, :, :] = np.repeat(np.asarray(last_sigma).reshape((1, n_features, n_features), order='C'), w, axis=0)\n",
    "    cdef Py_ssize_t i, j, a, b\n",
    "    with nogil:\n",
    "        for i in range(w, data.shape[0]):\n",
    "            for a in range(n_features):\n",
    "                old_means[a] = means[a]\n",
    "                means[a] += (data[i, a] - data[i-w, a]) / w\n",
    "            for a in range(n_features):\n",
    "                for b in range(a+1):\n",
    "                    c = sigmas[i-1, a, b]\n",
    "                    c += (data[i, a] * data[i, b] - data[i-w, a] * data[i-w, b]) / w\n",
    "                    c += old_means[a] * old_means[b] - means[a] * means[b]\n",
    "                    sigmas[i, a, b] = sigmas[i, b, a] = c\n",
    "    return np_sigmas"
   ]
  },
  {
   "cell_type": "code",
   "execution_count": 36,
   "metadata": {
    "collapsed": true
   },
   "outputs": [],
   "source": [
    "X_train_cov = extract_cov_matrices(X_train_filtered_125Hz[:100000].astype(np.float), 900)\n",
    "Y_train_125Hz_sub = Y_train_125Hz[:100000]\n",
    "\n",
    "X_train_cov = X_train_cov[::20]\n",
    "Y_train_125Hz_sub = Y_train_125Hz_sub[::20]"
   ]
  },
  {
   "cell_type": "markdown",
   "metadata": {},
   "source": [
    "## Riemannian-based kernel trick <a class=\"anchor\" id=\"kernel-trick\"></a>"
   ]
  },
  {
   "cell_type": "code",
   "execution_count": 38,
   "metadata": {},
   "outputs": [
    {
     "name": "stdout",
     "output_type": "stream",
     "text": [
      "This step might take a couple a minutes...\n"
     ]
    }
   ],
   "source": [
    "def hlmap(Cp, sqrtCinv):\n",
    "    return scipy.linalg.logm(sqrtCinv * Cp * sqrtCinv)\n",
    "\n",
    "def hemap(Cp, sqrtC):\n",
    "    return scipy.linalg.expm(sqrtC * Cp * sqrtC)\n",
    "\n",
    "def project_cov_matrices(X):\n",
    "    \"\"\" X is of shape (n_samples, n_electrodes, n_electrodes) \"\"\"\n",
    "    sqrtC = scipy.linalg.sqrtm(X.mean(axis=0))\n",
    "    sqrtCinv = scipy.linalg.inv(sqrtC)\n",
    "    return np.asarray([hlmap(h, sqrtCinv) for h in X])"
   ]
  },
  {
   "cell_type": "code",
   "execution_count": 50,
   "metadata": {},
   "outputs": [
    {
     "name": "stderr",
     "output_type": "stream",
     "text": [
      "C:\\ProgramData\\Anaconda3\\lib\\site-packages\\sklearn\\utils\\validation.py:382: ComplexWarning: Casting complex values to real discards the imaginary part\n",
      "  array = np.array(array, dtype=dtype, order=order, copy=copy)\n"
     ]
    },
    {
     "name": "stdout",
     "output_type": "stream",
     "text": [
      "(5000, 32, 32)\n"
     ]
    },
    {
     "data": {
      "image/png": "[encoded data removed]",
      "text/plain": [
       "<matplotlib.figure.Figure at 0x17a2a1f8518>"
      ]
     },
     "metadata": {},
     "output_type": "display_data"
    }
   ],
   "source": [
    "pca = PCA(n_components=X_train_cov.reshape(len(X_train_cov), -1).shape[1])\n",
    "points = pca.fit_transform(X_train_cov.reshape(len(X_train_cov), -1))\n",
    "print(X_train_cov.shape)\n",
    "points = points[:, 29:31]\n",
    "\n",
    "labels = Y_train_125Hz_sub\n",
    "nothing = labels.sum(axis=1) == 0\n",
    "something = labels.sum(axis=1) > 0\n",
    "\n",
    "plt.figure(figsize=(16, 6))\n",
    "plt.scatter(points[nothing, 0], points[nothing, 1], c='blue')\n",
    "plt.scatter(points[something, 0], points[something, 1], c='red')\n",
    "plt.show()"
   ]
  },
  {
   "cell_type": "markdown",
   "metadata": {
    "collapsed": true
   },
   "source": [
    "## Models <a class=\"anchor\" id=\"models\"></a>\n",
    "<hr/>\n",
    "\n",
    "### Linear discriminant analysis <a class=\"anchor\" id=\"lda\"></a>"
   ]
  },
  {
   "cell_type": "code",
   "execution_count": 49,
   "metadata": {
    "scrolled": true
   },
   "outputs": [
    {
     "name": "stderr",
     "output_type": "stream",
     "text": [
      "C:\\ProgramData\\Anaconda3\\lib\\site-packages\\sklearn\\lda.py:6: DeprecationWarning: lda.LDA has been moved to discriminant_analysis.LinearDiscriminantAnalysis in 0.17 and will be removed in 0.19\n",
      "  \"in 0.17 and will be removed in 0.19\", DeprecationWarning)\n",
      "C:\\ProgramData\\Anaconda3\\lib\\site-packages\\sklearn\\utils\\validation.py:382: ComplexWarning: Casting complex values to real discards the imaginary part\n",
      "  array = np.array(array, dtype=dtype, order=order, copy=copy)\n",
      "C:\\ProgramData\\Anaconda3\\lib\\site-packages\\sklearn\\utils\\validation.py:382: ComplexWarning: Casting complex values to real discards the imaginary part\n",
      "  array = np.array(array, dtype=dtype, order=order, copy=copy)\n",
      "C:\\ProgramData\\Anaconda3\\lib\\site-packages\\sklearn\\metrics\\classification.py:516: RuntimeWarning: invalid value encountered in double_scalars\n",
      "  mcc = cov_ytyp / np.sqrt(var_yt * var_yp)\n"
     ]
    },
    {
     "name": "stdout",
     "output_type": "stream",
     "text": [
      "0.434188107113\n",
      "0.0\n",
      "0 \n",
      "\n"
     ]
    },
    {
     "name": "stderr",
     "output_type": "stream",
     "text": [
      "C:\\ProgramData\\Anaconda3\\lib\\site-packages\\sklearn\\utils\\validation.py:382: ComplexWarning: Casting complex values to real discards the imaginary part\n",
      "  array = np.array(array, dtype=dtype, order=order, copy=copy)\n",
      "C:\\ProgramData\\Anaconda3\\lib\\site-packages\\sklearn\\metrics\\classification.py:516: RuntimeWarning: invalid value encountered in double_scalars\n",
      "  mcc = cov_ytyp / np.sqrt(var_yt * var_yp)\n"
     ]
    },
    {
     "name": "stdout",
     "output_type": "stream",
     "text": [
      "0.248987659598\n",
      "0.0\n",
      "0 \n",
      "\n"
     ]
    },
    {
     "name": "stderr",
     "output_type": "stream",
     "text": [
      "C:\\ProgramData\\Anaconda3\\lib\\site-packages\\sklearn\\utils\\validation.py:382: ComplexWarning: Casting complex values to real discards the imaginary part\n",
      "  array = np.array(array, dtype=dtype, order=order, copy=copy)\n",
      "C:\\ProgramData\\Anaconda3\\lib\\site-packages\\sklearn\\metrics\\classification.py:516: RuntimeWarning: invalid value encountered in double_scalars\n",
      "  mcc = cov_ytyp / np.sqrt(var_yt * var_yp)\n"
     ]
    },
    {
     "name": "stdout",
     "output_type": "stream",
     "text": [
      "0.591487769434\n",
      "0.0\n",
      "0 \n",
      "\n"
     ]
    },
    {
     "name": "stderr",
     "output_type": "stream",
     "text": [
      "C:\\ProgramData\\Anaconda3\\lib\\site-packages\\sklearn\\utils\\validation.py:382: ComplexWarning: Casting complex values to real discards the imaginary part\n",
      "  array = np.array(array, dtype=dtype, order=order, copy=copy)\n",
      "C:\\ProgramData\\Anaconda3\\lib\\site-packages\\sklearn\\metrics\\classification.py:516: RuntimeWarning: invalid value encountered in double_scalars\n",
      "  mcc = cov_ytyp / np.sqrt(var_yt * var_yp)\n"
     ]
    },
    {
     "name": "stdout",
     "output_type": "stream",
     "text": [
      "0.652333426419\n",
      "0.0\n",
      "0 \n",
      "\n"
     ]
    },
    {
     "name": "stderr",
     "output_type": "stream",
     "text": [
      "C:\\ProgramData\\Anaconda3\\lib\\site-packages\\sklearn\\utils\\validation.py:382: ComplexWarning: Casting complex values to real discards the imaginary part\n",
      "  array = np.array(array, dtype=dtype, order=order, copy=copy)\n",
      "C:\\ProgramData\\Anaconda3\\lib\\site-packages\\sklearn\\metrics\\classification.py:516: RuntimeWarning: invalid value encountered in double_scalars\n",
      "  mcc = cov_ytyp / np.sqrt(var_yt * var_yp)\n"
     ]
    },
    {
     "name": "stdout",
     "output_type": "stream",
     "text": [
      "0.380430093938\n",
      "0.0\n",
      "0 \n",
      "\n",
      "0.653065610102\n",
      "0.0\n",
      "0 \n",
      "\n"
     ]
    },
    {
     "name": "stderr",
     "output_type": "stream",
     "text": [
      "C:\\ProgramData\\Anaconda3\\lib\\site-packages\\sklearn\\utils\\validation.py:382: ComplexWarning: Casting complex values to real discards the imaginary part\n",
      "  array = np.array(array, dtype=dtype, order=order, copy=copy)\n",
      "C:\\ProgramData\\Anaconda3\\lib\\site-packages\\sklearn\\metrics\\classification.py:516: RuntimeWarning: invalid value encountered in double_scalars\n",
      "  mcc = cov_ytyp / np.sqrt(var_yt * var_yp)\n"
     ]
    }
   ],
   "source": [
    "from sklearn.lda import LDA\n",
    "from sklearn.ensemble import RandomForestClassifier\n",
    "from sklearn.linear_model import LogisticRegression\n",
    "from sklearn.metrics import matthews_corrcoef\n",
    "\n",
    "_X_train = X_train_cov[:4000]\n",
    "_X_train = _X_train.reshape(_X_train.shape[0], -1)\n",
    "_Y_train = Y_train_125Hz_sub[:4000]\n",
    "\n",
    "_X_val = X_train_cov[4000:]\n",
    "_X_val = _X_val.reshape(_X_val.shape[0], -1)\n",
    "_Y_val = Y_train_125Hz_sub[4000:]\n",
    "\n",
    "for i in range(6):\n",
    "    clf = RandomForestClassifier()\n",
    "    clf.fit(_X_train, _Y_train[:, i])\n",
    "    print(matthews_corrcoef(_Y_train[:, i], clf.predict(_X_train)))\n",
    "    print(matthews_corrcoef(_Y_val[:, i], clf.predict(_X_val)))\n",
    "    print(clf.predict(_X_val).sum(), \"\\n\")"
   ]
  },
  {
   "cell_type": "markdown",
   "metadata": {},
   "source": [
    "## Bibliography <a class=\"anchor\" id=\"bibliography\"></a>\n",
    "<hr/>\n",
    "\n",
    "* <span class=\"anchor\" id=\"bib-riemann\">\n",
    "    [1] Classification of covariance matrices using a Riemannian-based kernel for BCI applications <br>\n",
    "    Alexandre Barachant, Stéphane Bonnet, Marco Congedo, Christian Jutten <br>\n",
    "    https://hal.archives-ouvertes.fr/file/index/docid/820475/filename/BARACHANT_Neurocomputing_ForHal.pdf <br>\n",
    "  </span>\n",
    "<br>\n",
    "\n",
    "* <span class=\"anchor\" id=\"bib-kaggle\">\n",
    "    [2] Grasp-and-Lift EEG Detection Kaggle Competition <br>\n",
    "    https://www.kaggle.com/c/grasp-and-lift-eeg-detection <br>\n",
    "  </span>\n",
    "<br>"
   ]
  },
  {
   "cell_type": "code",
   "execution_count": null,
   "metadata": {
    "collapsed": true
   },
   "outputs": [],
   "source": []
  }
 ],
 "metadata": {
  "kernelspec": {
   "display_name": "Python 3",
   "language": "python",
   "name": "python3"
  },
  "language_info": {
   "codemirror_mode": {
    "name": "ipython",
    "version": 3
   },
   "file_extension": ".py",
   "mimetype": "text/x-python",
   "name": "python",
   "nbconvert_exporter": "python",
   "pygments_lexer": "ipython3",
   "version": "3.6.1"
  }
 },
 "nbformat": 4,
 "nbformat_minor": 2
}
