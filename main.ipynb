{
 "cells": [
  {
   "cell_type": "markdown",
   "metadata": {},
   "source": [
    "# Hand motions classification using non-invasive EEG recordings\n",
    "### by Cedric Simar and Antoine Passemiers\n",
    "<hr/>\n",
    "\n",
    "## Table of content\n",
    "\n",
    "* [0 - Introduction](#introduction)\n",
    "  * [0.1. Problem description](#problem-description)\n",
    "\n",
    "\n",
    "* [1 - Preprocessing](#preprocessing)\n",
    "  * [1.1. Import useful libraries](#import-libraries)\n",
    "  * [1.2. Load the data](#load-data)\n",
    "  * [1.3. Band-pass filtering](#band-pass-filtering)\n",
    "  * [1.4. Downsampling](#downsampling)\n",
    "  * [1.5. Extract covariance matrices](#extract-cov)\n",
    "\n",
    "\n",
    "* [2. Riemannian-based kernel trick](#kernel-trick)\n",
    "\n",
    "\n",
    "* [3. Models](#models)\n",
    "  * [3.1. Linear Discriminant Analysis](#lda)\n",
    "\n",
    "\n",
    "* [4. Bibliography](#bibliography)"
   ]
  },
  {
   "cell_type": "markdown",
   "metadata": {},
   "source": [
    "## Introduction <a class=\"anchor\" id=\"introduction\"></a>\n",
    "<hr/>\n",
    "\n",
    "### Problem description <a class=\"anchor\" id=\"problem-description\"></a>"
   ]
  },
  {
   "cell_type": "code",
   "execution_count": 1,
   "metadata": {},
   "outputs": [
    {
     "data": {
      "text/html": [
       "<iframe style=\"display:block\" width=\"560\" height=\"315\" src=\"https://www.youtube.com/embed/y3_Izuop2gY?rel=0&amp;controls=0&amp;showinfo=0\" frameborder=\"0\" allowfullscreen></iframe>"
      ],
      "text/plain": [
       "<IPython.core.display.HTML object>"
      ]
     },
     "execution_count": 1,
     "metadata": {},
     "output_type": "execute_result"
    }
   ],
   "source": [
    "from IPython.display import HTML\n",
    "url = \"https://www.youtube.com/embed/y3_Izuop2gY?rel=0&amp;controls=0&amp;showinfo=0\"\n",
    "HTML('<iframe style=\"display:block\" width=\"560\" height=\"315\" src=\"%s\" frameborder=\"0\" allowfullscreen></iframe>' % url)"
   ]
  },
  {
   "cell_type": "markdown",
   "metadata": {},
   "source": [
    "## Preprocessing <a class=\"anchor\" id=\"preprocessing\"></a>\n",
    "<hr/>\n",
    "\n",
    "### Import useful libraries <a class=\"anchor\" id=\"import-libraries\"></a>"
   ]
  },
  {
   "cell_type": "code",
   "execution_count": 1,
   "metadata": {},
   "outputs": [],
   "source": [
    "%load_ext Cython\n",
    "\n",
    "import cython\n",
    "import os\n",
    "import gc\n",
    "import time\n",
    "import scipy.linalg\n",
    "import scipy.signal\n",
    "import numpy as np\n",
    "import pandas as pd\n",
    "import matplotlib.pyplot as plt\n",
    "from sklearn.decomposition import PCA"
   ]
  },
  {
   "cell_type": "markdown",
   "metadata": {},
   "source": [
    "### Load the data <a class=\"anchor\" id=\"load-data\"></a>\n",
    "\n",
    "TODO Cedric: descriptions (electrodes, multi-labels, échantillonage, tout ça tout ça)\n",
    "\n",
    "<figure style=\"text-align:center;\">\n",
    "  <img src=\"imgs/EEG_Electrode_Numbering.jpg\" style=\"width:450px;\">\n",
    "  <figcaption> Source: [Kaggle](#bib-kaggle) </figcaption>\n",
    "</figure>"
   ]
  },
  {
   "cell_type": "code",
   "execution_count": 2,
   "metadata": {
    "collapsed": true
   },
   "outputs": [],
   "source": [
    "N_PATIENTS = 12\n",
    "# Feature names\n",
    "ELECTRODE_NAMES = [\n",
    "    'Fp1', 'Fp2', 'F7', 'F3', 'Fz', 'F4', 'F8', 'FC5', 'FC1', 'FC2', 'FC6',\n",
    "    'T7', 'C3', 'Cz', 'C4', 'T8', 'TP9', 'CP5', 'CP1', 'CP2', 'CP6', 'TP10',\n",
    "    'P7', 'P3', 'Pz', 'P4', 'P8', 'PO9', 'O1', 'Oz', 'O2', 'PO10']\n",
    "# Label names\n",
    "EVENT_NAMES = ['HandStart', 'FirstDigitTouch', 'BothStartLoadPhase', 'LiftOff', 'Replace', 'BothReleased']\n",
    "\n",
    "\n",
    "def load_dataset(subject=-1, data_dir='', with_test_data=True):\n",
    "    \"\"\"\n",
    "    Parameters\n",
    "    ----------\n",
    "    subject: int, list, np.ndarray\n",
    "        Either a subject id or a sequence of ids. If subject is set to -1,\n",
    "        the data from all patients will be returned\n",
    "    data_dir: str\n",
    "        path to the folder where train/ and test/ subfolders are located\n",
    "    with_test_data: bool\n",
    "        If set to true, test series/set will be returned\n",
    "    \n",
    "    Return\n",
    "    ------\n",
    "    If with_test_data: List of couples of dataframes\n",
    "    Otherwise: List of dataframes\n",
    "    \"\"\"\n",
    "    if type(subject) == int:\n",
    "        subject_ids = list(range(1, N_PATIENTS+1)) if subject == -1 else [subject]\n",
    "    else:\n",
    "        subject_ids = list(subject)\n",
    "    print(\"Loading dataset...\")\n",
    "    subjects_data = list()\n",
    "    for subject_id in subject_ids:\n",
    "        subject_train_data = list()\n",
    "        for series_id in range(1, 9):\n",
    "            print(\"\\tSeries %i of subject %i\" % (series_id, subject_id))\n",
    "            train_data_filename = os.path.join(\n",
    "                data_dir, 'train/subj%s_series%s_data.csv' % (subject_id, series_id))\n",
    "            events_filename = os.path.join(\n",
    "                data_dir, 'train/subj%s_series%s_events.csv' % (subject_id, series_id))\n",
    "            train_series, events = pd.read_csv(train_data_filename), pd.read_csv(events_filename)\n",
    "            train_series[EVENT_NAMES] = events[EVENT_NAMES]\n",
    "            subject_train_data.append(train_series)\n",
    "        if with_test_data:\n",
    "            subject_test_data = list()\n",
    "            for series_id in range(9, 11):\n",
    "                test_data_filename = os.path.join(\n",
    "                    data_dir, 'test/subj%s_series%s_data.csv' % (subject_id, series_id))\n",
    "                subject_test_data.append(pd.read_csv(test_data_filename))\n",
    "            subjects_data.append((subject_train_data, subject_test_data))\n",
    "        else:\n",
    "            subjects_data.append(subject_train_data)\n",
    "    return subjects_data"
   ]
  },
  {
   "cell_type": "code",
   "execution_count": 46,
   "metadata": {},
   "outputs": [
    {
     "name": "stdout",
     "output_type": "stream",
     "text": [
      "Loading dataset...\n",
      "\tSeries 1 of subject 1\n",
      "\tSeries 2 of subject 1\n",
      "\tSeries 3 of subject 1\n",
      "\tSeries 4 of subject 1\n",
      "\tSeries 5 of subject 1\n",
      "\tSeries 6 of subject 1\n",
      "\tSeries 7 of subject 1\n",
      "\tSeries 8 of subject 1\n"
     ]
    }
   ],
   "source": [
    " # Take first list element since we consider only patient number 1\n",
    "training_set = load_dataset(subject=1, data_dir='data', with_test_data=False)[0]\n",
    "\n",
    "training_set = pd.concat(training_set)\n",
    "\n",
    "X_train = np.asarray(training_set[ELECTRODE_NAMES], dtype=np.int16)\n",
    "Y_train = np.asarray(training_set[EVENT_NAMES], dtype=np.int16)"
   ]
  },
  {
   "cell_type": "markdown",
   "metadata": {},
   "source": [
    "### Band-pass filtering <a class=\"anchor\" id=\"band-pass-filtering\"></a>\n",
    "\n",
    "To avoid creating potential aliasing effects, we apply necessary spectral filters on the raw signals before to downsample them."
   ]
  },
  {
   "cell_type": "code",
   "execution_count": 47,
   "metadata": {
    "collapsed": true
   },
   "outputs": [],
   "source": [
    "class BandPassFilter:\n",
    "    \n",
    "    def __init__(self, lowcut_freq, highcut_freq, sampling_freq, order=3):\n",
    "        self.nyquist_freq = sampling_freq / 2.\n",
    "        lower_bound = lowcut_freq / self.nyquist_freq\n",
    "        upper_bound = highcut_freq / self.nyquist_freq\n",
    "        self.b, self.a = scipy.signal.butter(order, [lower_bound, upper_bound], btype='band')\n",
    "    \n",
    "    def lfilter(self, signal):\n",
    "        # TODO: does lfiter include future data when filtering current frame? \n",
    "        return scipy.signal.lfilter(self.b, self.a, signal, axis=0)"
   ]
  },
  {
   "cell_type": "code",
   "execution_count": 48,
   "metadata": {
    "collapsed": true
   },
   "outputs": [],
   "source": [
    "# Sampling frequency: 500 Hz (from the dataset description)\n",
    "# Filter band of interest (from Barachant et al.): 8 Hz to 35 Hz (µ and β frequency bands)\n",
    "bandpass = BandPassFilter(8, 35, 500)\n",
    "\n",
    "X_train_filtered = bandpass.lfilter(X_train)"
   ]
  },
  {
   "cell_type": "markdown",
   "metadata": {},
   "source": [
    "### Downsampling <a class=\"anchor\" id=\"downsampling\"></a>"
   ]
  },
  {
   "cell_type": "code",
   "execution_count": 31,
   "metadata": {},
   "outputs": [],
   "source": [
    "# 500 Hz -> 125 Hz\n",
    "X_train_filtered_125Hz, Y_train_125Hz = X_train_filtered[::4], Y_train[::4]"
   ]
  },
  {
   "cell_type": "markdown",
   "metadata": {},
   "source": [
    "### Extract covariance matrices <a class=\"anchor\" id=\"extract-cov\"></a>"
   ]
  },
  {
   "cell_type": "code",
   "execution_count": 12,
   "metadata": {},
   "outputs": [],
   "source": [
    "%%cython\n",
    "\n",
    "import numpy as np\n",
    "cimport numpy as cnp\n",
    "cnp.import_array()\n",
    "import cython\n",
    "\n",
    "@cython.boundscheck(False)\n",
    "@cython.overflowcheck(False)\n",
    "def extract_cov_matrices(cnp.float_t[:, :] data, Py_ssize_t w):\n",
    "    cdef Py_ssize_t n_features = data.shape[1]\n",
    "    cdef cnp.float_t[:, :, :] sigmas = np.empty((data.shape[0], n_features, n_features), dtype=np.float)\n",
    "    cdef cnp.float_t[:] means = np.asarray(np.mean(np.asarray(data)[:w, :], axis=0), dtype=np.float)\n",
    "    cdef cnp.float_t[:] old_means = np.copy(means)\n",
    "    cdef cnp.float_t[:, :] last_sigma = np.cov(np.asarray(data)[:w, :].T)\n",
    "    cdef cnp.float_t c\n",
    "    np_sigmas = np.asarray(sigmas)\n",
    "    np_sigmas[:w, :, :] = np.repeat(np.asarray(last_sigma).reshape((1, n_features, n_features), order='C'), w, axis=0)\n",
    "    cdef Py_ssize_t i, j, a, b\n",
    "    with nogil:\n",
    "        for i in range(w, data.shape[0]):\n",
    "            for a in range(n_features):\n",
    "                old_means[a] = means[a]\n",
    "                means[a] += (data[i, a] - data[i-w, a]) / w\n",
    "            for a in range(n_features):\n",
    "                for b in range(a+1):\n",
    "                    c = sigmas[i-1, a, b]\n",
    "                    c += (data[i, a] * data[i, b] - data[i-w, a] * data[i-w, b]) / w\n",
    "                    c += old_means[a] * old_means[b] - means[a] * means[b]\n",
    "                    sigmas[i, a, b] = sigmas[i, b, a] = c\n",
    "    return np_sigmas"
   ]
  },
  {
   "cell_type": "code",
   "execution_count": 39,
   "metadata": {},
   "outputs": [
    {
     "name": "stdout",
     "output_type": "stream",
     "text": [
      "(5000, 32, 32) (5000, 6)\n"
     ]
    }
   ],
   "source": [
    "X_train_cov = extract_cov_matrices(X_train_filtered_125Hz[:100000].astype(np.float), 900)\n",
    "Y_train_125Hz_sub = Y_train_125Hz[:100000]\n",
    "\n",
    "X_train_cov = X_train_cov[::20]\n",
    "Y_train_125Hz_sub = Y_train_125Hz_sub[::20]\n",
    "\n",
    "print(X_train_cov.shape, Y_train_125Hz_sub.shape)"
   ]
  },
  {
   "cell_type": "markdown",
   "metadata": {},
   "source": [
    "## Riemannian-based kernel trick <a class=\"anchor\" id=\"kernel-trick\"></a>"
   ]
  },
  {
   "cell_type": "code",
   "execution_count": 40,
   "metadata": {},
   "outputs": [
    {
     "name": "stdout",
     "output_type": "stream",
     "text": [
      "This step might take a couple a minutes...\n"
     ]
    }
   ],
   "source": [
    "def hlmap(Cp, sqrtCinv):\n",
    "    return scipy.linalg.logm(sqrtCinv * Cp * sqrtCinv)\n",
    "\n",
    "def hemap(Cp, sqrtC):\n",
    "    return scipy.linalg.expm(sqrtC * Cp * sqrtC)\n",
    "\n",
    "print(\"This step might take a couple a minutes...\")\n",
    "sqrtC = scipy.linalg.sqrtm(X_train_cov[0])\n",
    "sqrtCinv = scipy.linalg.inv(sqrtC)\n",
    "X_train_cov = np.asarray([hlmap(h, sqrtCinv) for h in X_train_cov])"
   ]
  },
  {
   "cell_type": "code",
   "execution_count": 45,
   "metadata": {},
   "outputs": [
    {
     "data": {
      "text/plain": [
       "<matplotlib.figure.Figure at 0x225844c9dd8>"
      ]
     },
     "metadata": {},
     "output_type": "display_data"
    },
    {
     "data": {
      "image/png": "[encoded data removed]",
      "text/plain": [
       "<matplotlib.figure.Figure at 0x22580454ef0>"
      ]
     },
     "metadata": {},
     "output_type": "display_data"
    }
   ],
   "source": [
    "pca = PCA(n_components=2)\n",
    "points = pca.fit_transform(X_train_cov.reshape(len(X_train_cov), -1))\n",
    "\n",
    "labels = Y_train_125Hz_sub\n",
    "nothing = labels.sum(axis=1) == 0\n",
    "something = labels.sum(axis=1) > 0\n",
    "\n",
    "plt.figure(figsize=(16, 6))\n",
    "plt.scatter(points[nothing, 0], points[nothing, 1], c='blue')\n",
    "plt.scatter(points[something, 0], points[something, 1], c='red')\n",
    "plt.show()"
   ]
  },
  {
   "cell_type": "markdown",
   "metadata": {
    "collapsed": true
   },
   "source": [
    "## Models <a class=\"anchor\" id=\"models\"></a>\n",
    "<hr/>\n",
    "\n",
    "### Linear discriminant analysis <a class=\"anchor\" id=\"lda\"></a>"
   ]
  },
  {
   "cell_type": "code",
   "execution_count": 54,
   "metadata": {},
   "outputs": [
    {
     "name": "stdout",
     "output_type": "stream",
     "text": [
      "0.900780012746\n",
      "-0.016583181619\n",
      "14 \n",
      "\n",
      "0.937486558417\n",
      "0.0\n",
      "0 \n",
      "\n"
     ]
    },
    {
     "name": "stderr",
     "output_type": "stream",
     "text": [
      "C:\\ProgramData\\Anaconda3\\lib\\site-packages\\sklearn\\metrics\\classification.py:516: RuntimeWarning: invalid value encountered in double_scalars\n",
      "  mcc = cov_ytyp / np.sqrt(var_yt * var_yp)\n"
     ]
    },
    {
     "name": "stdout",
     "output_type": "stream",
     "text": [
      "0.911438361031\n",
      "0.0\n",
      "0 \n",
      "\n"
     ]
    },
    {
     "name": "stderr",
     "output_type": "stream",
     "text": [
      "C:\\ProgramData\\Anaconda3\\lib\\site-packages\\sklearn\\metrics\\classification.py:516: RuntimeWarning: invalid value encountered in double_scalars\n",
      "  mcc = cov_ytyp / np.sqrt(var_yt * var_yp)\n"
     ]
    },
    {
     "name": "stdout",
     "output_type": "stream",
     "text": [
      "0.898028993096\n",
      "0.0\n",
      "0 \n",
      "\n"
     ]
    },
    {
     "name": "stderr",
     "output_type": "stream",
     "text": [
      "C:\\ProgramData\\Anaconda3\\lib\\site-packages\\sklearn\\metrics\\classification.py:516: RuntimeWarning: invalid value encountered in double_scalars\n",
      "  mcc = cov_ytyp / np.sqrt(var_yt * var_yp)\n"
     ]
    },
    {
     "name": "stdout",
     "output_type": "stream",
     "text": [
      "0.936323280257\n",
      "-0.00623005705527\n",
      "2 \n",
      "\n",
      "0.914785626379\n",
      "-0.0124977391004\n",
      "8 \n",
      "\n"
     ]
    }
   ],
   "source": [
    "from sklearn.lda import LDA\n",
    "from sklearn.ensemble import RandomForestClassifier\n",
    "from sklearn.linear_model import LogisticRegression\n",
    "from sklearn.metrics import matthews_corrcoef\n",
    "\n",
    "_X_train = X_train_cov[:4000]\n",
    "_X_train = _X_train.reshape(_X_train.shape[0], -1)\n",
    "_Y_train = Y_train_125Hz_sub[:4000]\n",
    "\n",
    "_X_val = X_train_cov[4000:]\n",
    "_X_val = _X_val.reshape(_X_val.shape[0], -1)\n",
    "_Y_val = Y_train_125Hz_sub[4000:]\n",
    "\n",
    "for i in range(6):\n",
    "    clf = RandomForestClassifier()\n",
    "    clf.fit(_X_train, _Y_train[:, i])\n",
    "    print(matthews_corrcoef(_Y_train[:, i], clf.predict(_X_train)))\n",
    "    print(matthews_corrcoef(_Y_val[:, i], clf.predict(_X_val)))\n",
    "    print(clf.predict(_X_val).sum(), \"\\n\")"
   ]
  },
  {
   "cell_type": "markdown",
   "metadata": {},
   "source": [
    "## Bibliography <a class=\"anchor\" id=\"bibliography\"></a>\n",
    "<hr/>\n",
    "\n",
    "* <span class=\"anchor\" id=\"bib-riemann\">\n",
    "    [1] Classification of covariance matrices using a Riemannian-based kernel for BCI applications <br>\n",
    "    Alexandre Barachant, Stéphane Bonnet, Marco Congedo, Christian Jutten <br>\n",
    "    https://hal.archives-ouvertes.fr/file/index/docid/820475/filename/BARACHANT_Neurocomputing_ForHal.pdf <br>\n",
    "  </span>\n",
    "<br>\n",
    "\n",
    "* <span class=\"anchor\" id=\"bib-kaggle\">\n",
    "    [2] Grasp-and-Lift EEG Detection Kaggle Competition <br>\n",
    "    https://www.kaggle.com/c/grasp-and-lift-eeg-detection <br>\n",
    "  </span>\n",
    "<br>"
   ]
  },
  {
   "cell_type": "code",
   "execution_count": null,
   "metadata": {
    "collapsed": true
   },
   "outputs": [],
   "source": []
  }
 ],
 "metadata": {
  "kernelspec": {
   "display_name": "Python 3",
   "language": "python",
   "name": "python3"
  },
  "language_info": {
   "codemirror_mode": {
    "name": "ipython",
    "version": 3
   },
   "file_extension": ".py",
   "mimetype": "text/x-python",
   "name": "python",
   "nbconvert_exporter": "python",
   "pygments_lexer": "ipython3",
   "version": "3.6.1"
  }
 },
 "nbformat": 4,
 "nbformat_minor": 2
}
